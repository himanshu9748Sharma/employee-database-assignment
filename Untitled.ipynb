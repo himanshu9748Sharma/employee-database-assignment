{
 "cells": [
  {
   "cell_type": "code",
   "execution_count": 16,
   "id": "a29c68e9-7cd1-4464-aeba-2c3808db0c62",
   "metadata": {},
   "outputs": [
    {
     "name": "stdout",
     "output_type": "stream",
     "text": [
      "ID    Name       Age Department Salary    \n",
      "--------------------------------------------------\n",
      "1     satya      24 Sales      25000      \n"
     ]
    },
    {
     "ename": "KeyError",
     "evalue": "'Name'",
     "output_type": "error",
     "traceback": [
      "\u001b[31m---------------------------------------------------------------------------\u001b[39m",
      "\u001b[31mKeyError\u001b[39m                                  Traceback (most recent call last)",
      "\u001b[36mCell\u001b[39m\u001b[36m \u001b[39m\u001b[32mIn[16]\u001b[39m\u001b[32m, line 35\u001b[39m\n\u001b[32m     33\u001b[39m \u001b[38;5;28mprint\u001b[39m(\u001b[33m\"\u001b[39m\u001b[33m-\u001b[39m\u001b[33m\"\u001b[39m * \u001b[32m50\u001b[39m)\n\u001b[32m     34\u001b[39m \u001b[38;5;28;01mfor\u001b[39;00m emp_id, details \u001b[38;5;129;01min\u001b[39;00m employees.items():\n\u001b[32m---> \u001b[39m\u001b[32m35\u001b[39m      \u001b[38;5;28mprint\u001b[39m(\u001b[33mf\u001b[39m\u001b[33m\"\u001b[39m\u001b[38;5;132;01m{\u001b[39;00memp_id\u001b[38;5;132;01m:\u001b[39;00m\u001b[33m<5\u001b[39m\u001b[38;5;132;01m}\u001b[39;00m\u001b[33m \u001b[39m\u001b[38;5;132;01m{\u001b[39;00m\u001b[43mdetails\u001b[49m\u001b[43m[\u001b[49m\u001b[33;43m\"\u001b[39;49m\u001b[33;43mName\u001b[39;49m\u001b[33;43m\"\u001b[39;49m\u001b[43m]\u001b[49m\u001b[38;5;132;01m:\u001b[39;00m\u001b[33m<10\u001b[39m\u001b[38;5;132;01m}\u001b[39;00m\u001b[33m \u001b[39m\u001b[38;5;132;01m{\u001b[39;00mdetails[\u001b[33m'\u001b[39m\u001b[33mAge\u001b[39m\u001b[33m'\u001b[39m]\u001b[38;5;132;01m:\u001b[39;00m\u001b[33m<2\u001b[39m\u001b[38;5;132;01m}\u001b[39;00m\u001b[33m \u001b[39m\u001b[38;5;132;01m{\u001b[39;00mdetails[\u001b[33m'\u001b[39m\u001b[33mDepartment\u001b[39m\u001b[33m'\u001b[39m]\u001b[38;5;132;01m:\u001b[39;00m\u001b[33m<10\u001b[39m\u001b[38;5;132;01m}\u001b[39;00m\u001b[33m \u001b[39m\u001b[38;5;132;01m{\u001b[39;00mdetails[\u001b[33m'\u001b[39m\u001b[33mSalary\u001b[39m\u001b[33m'\u001b[39m]\u001b[38;5;132;01m:\u001b[39;00m\u001b[33m<10\u001b[39m\u001b[38;5;132;01m}\u001b[39;00m\u001b[33m \u001b[39m\u001b[33m\"\u001b[39m)\n\u001b[32m     38\u001b[39m \u001b[38;5;28;01mdef\u001b[39;00m\u001b[38;5;250m \u001b[39m\u001b[34msearch_employee\u001b[39m():\n\u001b[32m     39\u001b[39m \u001b[38;5;250m    \u001b[39m\u001b[33;03m\"\"\"search for an employee ID and display details.\"\"\"\u001b[39;00m\n",
      "\u001b[31mKeyError\u001b[39m: 'Name'"
     ]
    }
   ],
   "source": [
    "employees = { 1: {\"Name\": \"satya\",\"Age\": 24,\"Department\":\"Sales\",\"Salary\": 25000},\n",
    "              2: {\"Nme\": \"kiran\",\"Age\": 26,\"Department\":\"Sales\",\"Salary\": 30000},\n",
    "              3: {\"Name\": \"prakash\",\"Age\": 24,\"Department\":\"HR\",\"Salary\": 35000},\n",
    "              4: {\"Name\": \"aditya\",\"Age\": 28,\"Department\":\"Accounts\",\"Salary\": 25000},\n",
    "              5: {\"Name\": \"vikas\",\"Age\": 30,\"Department\":\"Accounts\",\"Salary\": 35000},\n",
    "              6: {\"Name\": \"sarvesh\",\"Age\": 30,\"Department\":\"Accounts\",\"Salary\": 35000},\n",
    "              7: {\"Name\": \"rohit\",\"Age\": 30,\"Department\":\"HR\",\"Salary\": 30000},}\n",
    "  \n",
    "def add_employee():\n",
    "    \"\"\"Adds a new employee to data base.\"\"\"\n",
    "    print(\"---- Add new employee ----\")\n",
    "    emp_id = int(input(\"Enter Employee ID:\" ))\n",
    "\n",
    "    if emp_id in employees:\n",
    "       print(\"Empolyee ID already exist! please input a new ID\")\n",
    "       return\n",
    "\n",
    "       name = input(\"Enter employee name: \")\n",
    "       age = int(input(\"Enter employee age: \"))\n",
    "       department = input(\"Enter employee department: \")\n",
    "       salary = int(input(\"Enter employee salary: \"))\n",
    "       employees[emp_id] = {\"Name\": name, \"Age\": age, \"Department\": department, \"Salary\": salary}\n",
    "       print(f\"Employee {Name} with ID {emp_id} successfully added.\")\n",
    "\n",
    "       def view_employee():\n",
    "              \"\"\"Displays details of all employees.\"\"\"\n",
    "              print(\"---- Employee details ----\")\n",
    "              if not employees:\n",
    "                print(\"No employees found,\")\n",
    "                return\n",
    "\n",
    "print(f\"{\"ID\":<5} {\"Name\":<10} {\"Age\":<2} {\"Department\":<10} {\"Salary\":<10}\")\n",
    "print(\"-\" * 50)\n",
    "for emp_id, details in employees.items():\n",
    "     print(f\"{emp_id:<5} {details[\"Name\"]:<10} {details['Age']:<2} {details['Department']:<10} {details['Salary']:<10} \")\n",
    "       \n",
    "\n",
    "def search_employee():\n",
    "    \"\"\"search for an employee ID and display details.\"\"\"\n",
    "    print(\"---- Search Employee ----\")\n",
    "    try:\n",
    "        emp_id = int(input(\"Enter Employee ID to search: \"))\n",
    "        if emp_id in employees:\n",
    "             details = employees[emp_id]\n",
    "             print(f\"Employee found: ID: {details['emp_id']}, Name: {details[\"Name\"]}, Age: {details['Age']}, Department: {details['Department']}, Salary: {details['Salary']}\")\n",
    "        else:\n",
    "             print(f\"employee with Id {emp_id} not found.\")\n",
    "    except ValueError:\n",
    "         print(\"Invalid input. please enter a valid employee ID.\")\n",
    "\n"
   ]
  },
  {
   "cell_type": "code",
   "execution_count": null,
   "id": "475f27d1-4a3a-4838-8517-a399d03f7cee",
   "metadata": {},
   "outputs": [],
   "source": []
  },
  {
   "cell_type": "code",
   "execution_count": null,
   "id": "30ec8579-95d9-4554-8b86-6be7dc7be7db",
   "metadata": {},
   "outputs": [],
   "source": []
  },
  {
   "cell_type": "code",
   "execution_count": null,
   "id": "4e8c349f-643a-4ff4-a5ae-e63bb5c4be0b",
   "metadata": {},
   "outputs": [],
   "source": []
  },
  {
   "cell_type": "code",
   "execution_count": null,
   "id": "d1dab90f-426a-4553-ad02-1926e0fb361c",
   "metadata": {},
   "outputs": [],
   "source": []
  },
  {
   "cell_type": "code",
   "execution_count": null,
   "id": "cd62e0df-8ad8-4061-9d58-8bb951301a74",
   "metadata": {},
   "outputs": [],
   "source": []
  },
  {
   "cell_type": "code",
   "execution_count": null,
   "id": "d6b6ed7a-bd2b-4f8a-88d8-8ff9eecd11df",
   "metadata": {},
   "outputs": [],
   "source": []
  },
  {
   "cell_type": "code",
   "execution_count": null,
   "id": "72ec0a29-a3d4-46c8-af5f-9a4e484d4851",
   "metadata": {},
   "outputs": [],
   "source": []
  }
 ],
 "metadata": {
  "kernelspec": {
   "display_name": "Python 3 (ipykernel)",
   "language": "python",
   "name": "python3"
  },
  "language_info": {
   "codemirror_mode": {
    "name": "ipython",
    "version": 3
   },
   "file_extension": ".py",
   "mimetype": "text/x-python",
   "name": "python",
   "nbconvert_exporter": "python",
   "pygments_lexer": "ipython3",
   "version": "3.13.5"
  }
 },
 "nbformat": 4,
 "nbformat_minor": 5
}
